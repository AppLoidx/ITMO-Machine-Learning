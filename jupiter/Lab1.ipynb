{
  "nbformat": 4,
  "nbformat_minor": 0,
  "metadata": {
    "colab": {
      "name": "Lab1_pandas.ipynb",
      "version": "0.3.2",
      "provenance": [],
      "collapsed_sections": []
    },
    "kernelspec": {
      "name": "python3",
      "display_name": "Python 3"
    }
  },
  "cells": [
    {
      "cell_type": "markdown",
      "metadata": {
        "id": "gtyGsN41cJfW",
        "colab_type": "text"
      },
      "source": [
        "# Введение"
      ]
    },
    {
      "cell_type": "markdown",
      "metadata": {
        "id": "xwcgtnoLEzw3",
        "colab_type": "text"
      },
      "source": [
        "Для выполнения лабораторных работ используется Jupyter Notebook. В Jupyter notebook вы можете разрабатывать, документировать и выполнять приложения на языке Python, он состоит из двух компонентов: веб-приложение, запускаемое в браузере, и ноутбуки – файлы, в которых можно работать с исходным кодом программы, запускать его, вводить и выводить данные и т.п.\n",
        "\n",
        "Веб приложение позволяет:\n",
        "\n",
        "*    редактировать Python код в браузере, с подсветкой синтаксиса, автоотступами и автодополнением;\n",
        "*    запускать код в браузере;\n",
        "*    отображать результаты вычислений с медиа представлением (схемы, графики);\n",
        "*    работать с языком разметки Markdown и LaTeX.\n",
        "\n",
        "Ноутбуки – это файлы, в которых сохраняются исходный код, входные и выходные данные\n",
        "\n",
        "Ноутбук состоит из ячеек (строк). Каждая ячейка может содежать код или текст. Добавляя ячеку вы выбираете какого типа ячейка вам нужна: +Code или +Text. Под кодом мы подразумеваем код, написанный на языке Python или системные команды (для системных команд перед ними ставится !)\n",
        "В текстовых строках можно ввести любой текст с определенным форматированием, html и математические формулы.\n",
        "\n"
      ]
    },
    {
      "cell_type": "markdown",
      "metadata": {
        "id": "DO4doOdyab53",
        "colab_type": "text"
      },
      "source": [
        "Для начала решим простую арифметическую задачу: добавьте строчку “Code”, введите в ячейке “2 + 3” без кавычек и нажмите Ctrl+Enter или Shift+Enter, в первом случае введенный вами код будет выполнен интерпретатором Python, во втором – будет выполнен код и создана новая ячейка, которая расположится уровнем ниже.\n",
        "\n",
        "Если ваша программа зависла, то можно прервать ее выполнение выбрав на панели меню пункт Kernel -> Interrupt."
      ]
    },
    {
      "cell_type": "code",
      "metadata": {
        "id": "tcGRZwWtEg9a",
        "colab_type": "code",
        "colab": {}
      },
      "source": [
        ""
      ],
      "execution_count": 0,
      "outputs": []
    },
    {
      "cell_type": "markdown",
      "metadata": {
        "id": "DqJugbmJYSFB",
        "colab_type": "text"
      },
      "source": [
        "Следующим шагом переназовем ноутбук.\n",
        "У каждого ноутбука есть имя, оно отображается в верхней части экрана. Для изменения имени нажмите на его текущее имя и поменяйте название ноутбука на Lab1_Фамилия_Группа.ipynb"
      ]
    },
    {
      "cell_type": "markdown",
      "metadata": {
        "id": "MYsEMLI9u7B5",
        "colab_type": "text"
      },
      "source": [
        "Дополнительную справочную информацию по работе в ноубуках можно посмотреть в интернете."
      ]
    },
    {
      "cell_type": "code",
      "metadata": {
        "id": "Zy2Uvd6OuWCc",
        "colab_type": "code",
        "colab": {}
      },
      "source": [
        ""
      ],
      "execution_count": 0,
      "outputs": []
    },
    {
      "cell_type": "markdown",
      "metadata": {
        "id": "p7isANkjcCZ6",
        "colab_type": "text"
      },
      "source": [
        "#Основы Pandas"
      ]
    },
    {
      "cell_type": "markdown",
      "metadata": {
        "id": "sjJVY4CYcxNW",
        "colab_type": "text"
      },
      "source": [
        "Pandas - это библиотека Python, предоставляющая широкие возможности для анализа данных. С ее помощью очень удобно загружать, обрабатывать и анализировать табличные данные с помощью SQL-подобных запросов. В связке с библиотеками Matplotlib и Seaborn появляется возможность удобного визуального анализа табличных данных.\n"
      ]
    },
    {
      "cell_type": "markdown",
      "metadata": {
        "id": "G5ABRBGldX6c",
        "colab_type": "text"
      },
      "source": [
        "Для использования библиотек их необходимо импортировать, что можно сделать с помощью команды import. После ключевого слова import указывается название библиотеки, а после as - ее краткое название (алиас), которое мы будем использовать в коде для краткого обозначения этой библиотеки."
      ]
    },
    {
      "cell_type": "code",
      "metadata": {
        "id": "yslJCsMpcHZW",
        "colab_type": "code",
        "colab": {}
      },
      "source": [
        "import pandas as pd"
      ],
      "execution_count": 0,
      "outputs": []
    },
    {
      "cell_type": "markdown",
      "metadata": {
        "id": "zIg8XEVteZe_",
        "colab_type": "text"
      },
      "source": [
        "Основными структурами данных в Pandas являются классы Series и DataFrame. Первый из них представляет собой одномерный индексированный массив данных некоторого фиксированного типа (его можно интеерпретировать как индексированный столбец таблицы). Второй - это двухмерная структура данных, представляющая собой таблицу, каждый столбец которой содержит данные одного типа. Можно представлять её как словарь объектов типа Series. Структура DataFrame отлично подходит для представления реальных данных: строки соответствуют признаковым описаниям отдельных объектов, а столбцы соответствуют признакам."
      ]
    },
    {
      "cell_type": "markdown",
      "metadata": {
        "id": "m7BEyqMjs8L-",
        "colab_type": "text"
      },
      "source": [
        "## Чтение из файла и первичный анализ\n",
        "Чаще всего, данные, которые мы будем анализировать, готовить  и использовать для обучения моделей, не формируются самостоятельно, а берутся из готового дататсета. Рассмотрим чтение датасета (DataFrame) из файла с расширением csv. В качестве примера возьмем titanic_train.csv, который содержить данные о пассажирах Титаника. Полный датасет titanic был разделен на 2 части - тренировочную и тестовую. Именно с тренировочной частью мы и будем работать. Датасет titanic предоставлен в рабочей папке Лаб_1, а также вы можете его скачать (titanic_train.csv) по ссылке https://www.kaggle.com/tedllh/titanic-train#titanic_train.csv. Если вы работаете на платформе Goggle Colab, необходимо сделать upload файла в вашу рабочую директорию ( в меню ноутбука слева  найти и перейти на Files, нажать Upload и выбрать файл для загрузки)\n",
        "\n",
        "Внимание! Проверьте, что файл находиться в папке content, если его там нет, то нажмите на нее правой кнопкой и upload. \n"
      ]
    },
    {
      "cell_type": "markdown",
      "metadata": {
        "id": "-W69sFlrtNtF",
        "colab_type": "text"
      },
      "source": [
        "###Чтение данных"
      ]
    },
    {
      "cell_type": "markdown",
      "metadata": {
        "id": "2uCoeFJoqWpa",
        "colab_type": "text"
      },
      "source": [
        "Для чтения csv файла используем функцию pd.read_csv"
      ]
    },
    {
      "cell_type": "code",
      "metadata": {
        "id": "xqXF6_9LqpRn",
        "colab_type": "code",
        "colab": {}
      },
      "source": [
        "import pandas as pd\n",
        "df = pd.read_csv('titanic_train.csv')"
      ],
      "execution_count": 0,
      "outputs": []
    },
    {
      "cell_type": "markdown",
      "metadata": {
        "id": "6rtdfLfItnIc",
        "colab_type": "text"
      },
      "source": [
        "Посмотрим тип переменной df"
      ]
    },
    {
      "cell_type": "code",
      "metadata": {
        "id": "KspQ_kC8tl3D",
        "colab_type": "code",
        "colab": {}
      },
      "source": [
        "type(df)"
      ],
      "execution_count": 0,
      "outputs": []
    },
    {
      "cell_type": "markdown",
      "metadata": {
        "id": "-ryV8-iUMc1O",
        "colab_type": "text"
      },
      "source": [
        "### Первичный анализ"
      ]
    },
    {
      "cell_type": "markdown",
      "metadata": {
        "id": "11Jgrd0KtwgV",
        "colab_type": "text"
      },
      "source": [
        "После того, как мы считали данные, посмотрим первые несколько записей датафрейма (если в скобках после функции head не указать нужное количество записей, то по умолчанию будут выведены первые 5 записей датафрейма). Если вместо таблицы вы видите  \"кашу\" из данных, разделенных \";\", значит, ваш csv файл использует в качестве разделителя \";\", а не \",\". И для корректного чтения данных, нужно задать разделитель в функции чтения, например df = pd.read_csv('proba.csv', sep=\";\")"
      ]
    },
    {
      "cell_type": "code",
      "metadata": {
        "id": "QmXrbhoTuJRG",
        "colab_type": "code",
        "colab": {}
      },
      "source": [
        "df.head(10)"
      ],
      "execution_count": 0,
      "outputs": []
    },
    {
      "cell_type": "markdown",
      "metadata": {
        "id": "kUufGVpKvk1A",
        "colab_type": "text"
      },
      "source": [
        "Давайте посмотрим, что это за данные. Достаточно часто датасеты имеют краткое описание содержимого. Например, что означает тот или иной столбец, какие значения используются для заполнения и т.д. Или значения признаков интуитивно понятны. В нашем случае, мы имеем следующие данные:\n",
        "каждая строка - это сведения об отдельном пассажире. Строка содержит:\n",
        "*   PassengerId - идентификатор пассажира (проще говоря, порядковый номер строки)\n",
        "*   Survived - признак, выжил ли пассажир после крушения (0 - погиб, 1 - выжил)\n",
        "*   Pclass - в каком классе ехал пассажир (1, 2 или 3)\n",
        "*   Name - имя пассажира\n",
        "*   Sex - пол (male - мужской, female - женский)\n",
        "*   Age - возраст\n",
        "*   SibSp - количество родственников (по горизонтали - супруг, братья, сестры) на борту\n",
        "*   Parch - количество родственников (по вертикали - родители, дети) на борту \n",
        "*   Ticket - номер билета\n",
        "*   Fare - цена билета\n",
        "*   Cabin - номер каюты\n",
        "*   Embarked - порт посадки (C — Cherbourg, Q — Queenstown, S — Southampton)\n",
        "\n",
        "\n",
        "\n"
      ]
    },
    {
      "cell_type": "markdown",
      "metadata": {
        "id": "MBgJoJYD4HCf",
        "colab_type": "text"
      },
      "source": [
        "Команда shape() показывате размерность датафрейма"
      ]
    },
    {
      "cell_type": "markdown",
      "metadata": {
        "id": "Lpg2DdiN4NL9",
        "colab_type": "text"
      },
      "source": [
        "Мы видим, что в нашем датафрейме 891 строка (то есть, сведения о 891 пассажире) и 12 столбцов признаков"
      ]
    },
    {
      "cell_type": "code",
      "metadata": {
        "id": "REsrbW9YqmXg",
        "colab_type": "code",
        "colab": {}
      },
      "source": [
        "df.shape"
      ],
      "execution_count": 0,
      "outputs": []
    },
    {
      "cell_type": "markdown",
      "metadata": {
        "id": "16kl-_TqebjJ",
        "colab_type": "text"
      },
      "source": [
        "Команда columns.values() показывате название всех признаков"
      ]
    },
    {
      "cell_type": "code",
      "metadata": {
        "id": "8th1M4uueUsZ",
        "colab_type": "code",
        "colab": {}
      },
      "source": [
        "df.columns.values"
      ],
      "execution_count": 0,
      "outputs": []
    },
    {
      "cell_type": "markdown",
      "metadata": {
        "id": "ZOnYvyDfEuRr",
        "colab_type": "text"
      },
      "source": [
        "Также полезно посмотреть метод info, который показывает краткую статистику по набору данных"
      ]
    },
    {
      "cell_type": "code",
      "metadata": {
        "id": "7JonSzixE6Y7",
        "colab_type": "code",
        "colab": {}
      },
      "source": [
        "df.info()"
      ],
      "execution_count": 0,
      "outputs": []
    },
    {
      "cell_type": "markdown",
      "metadata": {
        "id": "4ujf8CzK4bdJ",
        "colab_type": "text"
      },
      "source": [
        "Можно увидеть, что не все признаки у нас заполнены в каждой строке,для некоторых признаков есть пропуски. Например, у нас 891 строка, а Age (возраст) заполнен только в 714 строках. Совсем мало значений в столбце Cabin. \n",
        "\n",
        "Есть несколько вариантов работы с такими строками: \n",
        "* их можно оставить без изменений, если признак, в котором пропущены данные, малозначим;\n",
        "* можно удалить все строки, в которых есть пустые значения;\n",
        "* можно заполнить их какими-либо значениями (0, медианой или любыми другими константами).\n",
        "\n",
        "Метод info так же показывает какого типа данные в том или ином столбце: цифровые (int или float), текстовые и т.д. В последней строке указан объем памяти, которую занимает датафрейм. При больших объемах данных это позволяет оценить хватит ли вам ресурсов для загрузки в память полного датасета"
      ]
    },
    {
      "cell_type": "markdown",
      "metadata": {
        "id": "A28wj4YRH0pc",
        "colab_type": "text"
      },
      "source": [
        "Еще один полезный метод для начального анализа данных - метод describe(), который выдает краткую статистику по числовым признакам: среднее, стандартное отклонение, минимум, максимум, медианы, квартили и т.д. Самостоятельно посмотрите, что означает каждое понятие. "
      ]
    },
    {
      "cell_type": "code",
      "metadata": {
        "id": "AeSTWWppE4-3",
        "colab_type": "code",
        "colab": {}
      },
      "source": [
        "df.describe()"
      ],
      "execution_count": 0,
      "outputs": []
    },
    {
      "cell_type": "markdown",
      "metadata": {
        "id": "iTPCktTEMkTX",
        "colab_type": "text"
      },
      "source": [
        "##Доступ к элементам данных"
      ]
    },
    {
      "cell_type": "markdown",
      "metadata": {
        "id": "X4cp32dRx1Hz",
        "colab_type": "text"
      },
      "source": [
        "###Доступ к элементам DataFrame"
      ]
    },
    {
      "cell_type": "markdown",
      "metadata": {
        "id": "b8gbfFvZ4bgu",
        "colab_type": "text"
      },
      "source": [
        "Разберемся как посмотреть какие-то конкретные значения в датафрейме. Наш датафрейм представляет собой таблицу, состоящую из строк и столбцов. Обратиться к конкретному столбцу можно используя его имя. Например, выведем первые 10 строк из столбца с возрастом пассажиров"
      ]
    },
    {
      "cell_type": "code",
      "metadata": {
        "id": "e7sx4pwMJtit",
        "colab_type": "code",
        "colab": {}
      },
      "source": [
        "df['Age'].head(10)"
      ],
      "execution_count": 0,
      "outputs": []
    },
    {
      "cell_type": "markdown",
      "metadata": {
        "id": "U2RLfi_1ewLN",
        "colab_type": "text"
      },
      "source": [
        "Второй способ обращения - через \".\""
      ]
    },
    {
      "cell_type": "code",
      "metadata": {
        "id": "Jrd-z4lxevXA",
        "colab_type": "code",
        "colab": {}
      },
      "source": [
        "df.Age.head(10)"
      ],
      "execution_count": 0,
      "outputs": []
    },
    {
      "cell_type": "markdown",
      "metadata": {
        "id": "SXpeD9dsJ2w6",
        "colab_type": "text"
      },
      "source": [
        "Столбец таблицы - это объек Pandas Series, убедимся в этом определив тип полученного объекта. Этот объект проиндексирован (слева печатаются индексы). В нижней строке есть информацию о его имени и типе значений.\n",
        "Кроме того, здесь хорошо видны пропуски (незаполненные значения) в некоторых строках (они обозначены NaN - Not-A-Number)"
      ]
    },
    {
      "cell_type": "code",
      "metadata": {
        "id": "IPvr1mjfKnwF",
        "colab_type": "code",
        "colab": {}
      },
      "source": [
        "type(df['Age'])"
      ],
      "execution_count": 0,
      "outputs": []
    },
    {
      "cell_type": "markdown",
      "metadata": {
        "id": "ycHZL4wLMNc8",
        "colab_type": "text"
      },
      "source": [
        "Кроме обращения к столбцу по имени, можно использовать индексацию с помощью методов loc и iloc"
      ]
    },
    {
      "cell_type": "markdown",
      "metadata": {
        "id": "Ne8BeNj5M1QQ",
        "colab_type": "text"
      },
      "source": [
        "Метод loc выдает нам подматрицу, используя индексы строк и столбцов. Первый аргумент отвечает за количество записей (как с начала, так и при желании с любого места), а второй - за отраженные в подматрице признаки.\n"
      ]
    },
    {
      "cell_type": "code",
      "metadata": {
        "id": "t6_jFUPbfblx",
        "colab_type": "code",
        "colab": {}
      },
      "source": [
        "df.loc[0:5, ['Pclass', 'Fare']]"
      ],
      "execution_count": 0,
      "outputs": []
    },
    {
      "cell_type": "markdown",
      "metadata": {
        "id": "abcixFoA4bug",
        "colab_type": "text"
      },
      "source": [
        "Метод iloc работает схожим образом, за исключением того, что второй аргумент теперь тоже индексы, то есть отражает количество признаков.\n"
      ]
    },
    {
      "cell_type": "code",
      "metadata": {
        "id": "Zg4NhgBKk0qV",
        "colab_type": "code",
        "colab": {}
      },
      "source": [
        "df.iloc[0:5, 1:3]"
      ],
      "execution_count": 0,
      "outputs": []
    },
    {
      "cell_type": "markdown",
      "metadata": {
        "id": "2W_MTx-WyK6w",
        "colab_type": "text"
      },
      "source": [
        "###Доступ к элементам Series"
      ]
    },
    {
      "cell_type": "markdown",
      "metadata": {
        "id": "XxsGabTz4b4T",
        "colab_type": "text"
      },
      "source": [
        "Для примера создадим два объекта Series"
      ]
    },
    {
      "cell_type": "code",
      "metadata": {
        "colab_type": "code",
        "id": "I6n9ftFxzWmI",
        "colab": {}
      },
      "source": [
        "s1 = pd.Series([\"one\", \"two\", \"three\", \"four\", \"five\"]) # передаем список, индексы проставляются автоматически с 0\n",
        "print(s1)"
      ],
      "execution_count": 0,
      "outputs": []
    },
    {
      "cell_type": "code",
      "metadata": {
        "colab_type": "code",
        "id": "oN05wJZczWmc",
        "colab": {}
      },
      "source": [
        "s2 = pd.Series([1, 2, 3, 4, 5], ['a', 'b', 'c', 'd', 'e'])  # передаем список, индексы заданы символами от 'a' до 'e'\n",
        "print(s2)"
      ],
      "execution_count": 0,
      "outputs": []
    },
    {
      "cell_type": "markdown",
      "metadata": {
        "colab_type": "text",
        "id": "fu4bnCJ-zWmh"
      },
      "source": [
        "К элементам Series можно обращаться по численному индексу через \"[ ]\""
      ]
    },
    {
      "cell_type": "code",
      "metadata": {
        "colab_type": "code",
        "id": "JTmUpLwLzWmi",
        "colab": {}
      },
      "source": [
        "s2[2] # второй элемент серии s2 (индексация с 0)"
      ],
      "execution_count": 0,
      "outputs": []
    },
    {
      "cell_type": "markdown",
      "metadata": {
        "colab_type": "text",
        "id": "IJsaC78YzWmm"
      },
      "source": [
        "К элементам Series можно обращаться по метке:"
      ]
    },
    {
      "cell_type": "code",
      "metadata": {
        "colab_type": "code",
        "id": "ke_GSzJGzWmn",
        "colab": {}
      },
      "source": [
        "s2['c']"
      ],
      "execution_count": 0,
      "outputs": []
    },
    {
      "cell_type": "markdown",
      "metadata": {
        "colab_type": "text",
        "id": "BOFYDD-BzWmr"
      },
      "source": [
        "К элементам Series можно применять так называемые slice (срезы) через ':'.\n",
        "Срезами является часть серии до или после определенного элемента"
      ]
    },
    {
      "cell_type": "code",
      "metadata": {
        "colab_type": "code",
        "id": "_IMv8alczWmr",
        "colab": {}
      },
      "source": [
        "s2[:2] # все элементы до второго включительно"
      ],
      "execution_count": 0,
      "outputs": []
    },
    {
      "cell_type": "code",
      "metadata": {
        "colab_type": "code",
        "id": "4zE4QBF5zWmt",
        "colab": {}
      },
      "source": [
        "s2[2:] # второй и все элементы после второго до конца"
      ],
      "execution_count": 0,
      "outputs": []
    },
    {
      "cell_type": "code",
      "metadata": {
        "colab_type": "code",
        "id": "znQ0ekeTzWmw",
        "colab": {}
      },
      "source": [
        "s2[2:4] # все элементы со второго по четвертый не включительно. Последний никогда не включается."
      ],
      "execution_count": 0,
      "outputs": []
    },
    {
      "cell_type": "code",
      "metadata": {
        "id": "6QZ12o-Hmjnr",
        "colab_type": "code",
        "colab": {}
      },
      "source": [
        "s2[:] # все элементы"
      ],
      "execution_count": 0,
      "outputs": []
    },
    {
      "cell_type": "markdown",
      "metadata": {
        "colab_type": "text",
        "id": "nYQFy1gyzWmy"
      },
      "source": [
        "В поле для индекса можно поместить условное выражение.\n",
        "Данное выражение можно перевести как вопрос, является ли значение элемента (признака) меньшим или равным двум."
      ]
    },
    {
      "cell_type": "code",
      "metadata": {
        "colab_type": "code",
        "id": "j_MWQDjnzWmy",
        "colab": {}
      },
      "source": [
        "s2[s2 <= 2]"
      ],
      "execution_count": 0,
      "outputs": []
    },
    {
      "cell_type": "markdown",
      "metadata": {
        "id": "ckQnNZAjn4mL",
        "colab_type": "text"
      },
      "source": [
        "Или даже несколько условных выражений, отделенных \"( )\". \n",
        "\n",
        "Если соединить два условия знаком \"&\", то результат будет удовлетворять двум условиям, а если знаком \"|\", то хотя бы одному из них."
      ]
    },
    {
      "cell_type": "code",
      "metadata": {
        "id": "tFa7rL-mn45B",
        "colab_type": "code",
        "colab": {}
      },
      "source": [
        "s2[(s2 >= 2) & (s2 <=4)]"
      ],
      "execution_count": 0,
      "outputs": []
    },
    {
      "cell_type": "code",
      "metadata": {
        "id": "8Kwvc9xSomoo",
        "colab_type": "code",
        "colab": {}
      },
      "source": [
        "s2[(s2 <= 2) | (s2 == 5)]"
      ],
      "execution_count": 0,
      "outputs": []
    },
    {
      "cell_type": "markdown",
      "metadata": {
        "id": "cXVo5eJvo5Hc",
        "colab_type": "text"
      },
      "source": [
        "Важно, что в условных выражениях равенство пишется как \"==\" (два знака \"равно\")."
      ]
    },
    {
      "cell_type": "markdown",
      "metadata": {
        "colab_type": "text",
        "id": "kagxI_NfzWm1"
      },
      "source": [
        "Со структурами Series можно работать как с векторами: складывать, умножать вектор на число и т.п."
      ]
    },
    {
      "cell_type": "code",
      "metadata": {
        "colab_type": "code",
        "id": "2mAOcSTgzWm2",
        "colab": {}
      },
      "source": [
        "s3 = s2 + 10"
      ],
      "execution_count": 0,
      "outputs": []
    },
    {
      "cell_type": "code",
      "metadata": {
        "colab_type": "code",
        "id": "dMhJC4XjzWm4",
        "colab": {}
      },
      "source": [
        "print(s3)"
      ],
      "execution_count": 0,
      "outputs": []
    },
    {
      "cell_type": "markdown",
      "metadata": {
        "id": "gnyZuP3taQhB",
        "colab_type": "text"
      },
      "source": [
        "## Примеры анализа информации"
      ]
    },
    {
      "cell_type": "markdown",
      "metadata": {
        "id": "o76V1-_t09-T",
        "colab_type": "text"
      },
      "source": [
        "Для примера отберем пассажиров мужского пола, возраст которых меньше сорока лет."
      ]
    },
    {
      "cell_type": "code",
      "metadata": {
        "id": "bQ0Q-A1SxTXJ",
        "colab_type": "code",
        "colab": {}
      },
      "source": [
        "df[(df['Sex'] == 'male') & (df.Age < 40)].head(5)"
      ],
      "execution_count": 0,
      "outputs": []
    },
    {
      "cell_type": "markdown",
      "metadata": {
        "id": "gNrAR3R41PDO",
        "colab_type": "text"
      },
      "source": [
        "Можно отсортировать этих людей по возрастанию платы за билет. Ascending в данной функции отвечает за сортировку по убыванию (False) или по возрастанию (True)."
      ]
    },
    {
      "cell_type": "code",
      "metadata": {
        "id": "xBnWGrQfxdCT",
        "colab_type": "code",
        "colab": {}
      },
      "source": [
        "df[(df['Sex'] == 'male') & (df.Age < 40)].sort_values(by='Fare',ascending=True).head(10)"
      ],
      "execution_count": 0,
      "outputs": []
    },
    {
      "cell_type": "markdown",
      "metadata": {
        "id": "oBO-Nhzh2cvL",
        "colab_type": "text"
      },
      "source": [
        "Можно подсчитать количество пассажиров (а точнее их уникальных номеров) с помощью функции count()"
      ]
    },
    {
      "cell_type": "code",
      "metadata": {
        "id": "A0qPNXHs12m6",
        "colab_type": "code",
        "colab": {}
      },
      "source": [
        "df[(df['Sex'] == 'male') & (df.Age < 40)].sort_values(by='Fare',ascending=True).PassengerId.count()"
      ],
      "execution_count": 0,
      "outputs": []
    },
    {
      "cell_type": "markdown",
      "metadata": {
        "id": "nIYN5Eob3yJz",
        "colab_type": "text"
      },
      "source": [
        "Также можно быстро вывести распределение переменной Sex с помощью функции value_count()"
      ]
    },
    {
      "cell_type": "code",
      "metadata": {
        "id": "ryeKmgpO3hSx",
        "colab_type": "code",
        "colab": {}
      },
      "source": [
        "df.Sex.value_counts()"
      ],
      "execution_count": 0,
      "outputs": []
    },
    {
      "cell_type": "markdown",
      "metadata": {
        "id": "ACGDsuGOagZt",
        "colab_type": "text"
      },
      "source": [
        "## Задания"
      ]
    },
    {
      "cell_type": "markdown",
      "metadata": {
        "id": "6juXJzCA1qFR",
        "colab_type": "text"
      },
      "source": [
        "Задание 1.\n",
        "Сколько человек спаслись и сколько погибли?"
      ]
    },
    {
      "cell_type": "code",
      "metadata": {
        "id": "vr9y7QQJEvSL",
        "colab_type": "code",
        "colab": {}
      },
      "source": [
        ""
      ],
      "execution_count": 0,
      "outputs": []
    },
    {
      "cell_type": "markdown",
      "metadata": {
        "id": "ROJJ8MSE2xdh",
        "colab_type": "text"
      },
      "source": [
        "Задание 2. Выведите распределение переменной Survived отдельно для мужчин и отдельно для женщин\n"
      ]
    },
    {
      "cell_type": "code",
      "metadata": {
        "id": "GNTW3sVq2sP3",
        "colab_type": "code",
        "colab": {}
      },
      "source": [
        ""
      ],
      "execution_count": 0,
      "outputs": []
    },
    {
      "cell_type": "markdown",
      "metadata": {
        "id": "JOxfl_Rc5SPG",
        "colab_type": "text"
      },
      "source": [
        "Задание 3. Каковы медиана и стандартное отклонение цен за билет?"
      ]
    },
    {
      "cell_type": "code",
      "metadata": {
        "id": "VLS_yn9f4_eL",
        "colab_type": "code",
        "colab": {}
      },
      "source": [
        ""
      ],
      "execution_count": 0,
      "outputs": []
    },
    {
      "cell_type": "markdown",
      "metadata": {
        "id": "JMpQ54xk51wN",
        "colab_type": "text"
      },
      "source": [
        "Задание 4. Подсчитайте долю выживших среди людей моложе 25 лет и старше 55."
      ]
    },
    {
      "cell_type": "code",
      "metadata": {
        "id": "mzqVFbbE6art",
        "colab_type": "code",
        "colab": {}
      },
      "source": [
        ""
      ],
      "execution_count": 0,
      "outputs": []
    },
    {
      "cell_type": "markdown",
      "metadata": {
        "id": "c9dMqjki6tWX",
        "colab_type": "text"
      },
      "source": [
        "Задание 5. Подсчитайте долю выживших среди мужчин и женщин."
      ]
    },
    {
      "cell_type": "code",
      "metadata": {
        "id": "EuQ3k9_56WTD",
        "colab_type": "code",
        "colab": {}
      },
      "source": [
        ""
      ],
      "execution_count": 0,
      "outputs": []
    },
    {
      "cell_type": "markdown",
      "metadata": {
        "id": "d9HcyxCe8Amb",
        "colab_type": "text"
      },
      "source": [
        "Задание 6. В каком городе больше всего село пассажиров?"
      ]
    },
    {
      "cell_type": "code",
      "metadata": {
        "id": "Z1qimpFF6914",
        "colab_type": "code",
        "colab": {}
      },
      "source": [
        ""
      ],
      "execution_count": 0,
      "outputs": []
    },
    {
      "cell_type": "markdown",
      "metadata": {
        "id": "r7Ev8RJWy0la",
        "colab_type": "text"
      },
      "source": [
        "Задание 7. Подсчитайте средний возраст выживших"
      ]
    },
    {
      "cell_type": "code",
      "metadata": {
        "id": "UV2fKrBW8F2W",
        "colab_type": "code",
        "colab": {}
      },
      "source": [
        ""
      ],
      "execution_count": 0,
      "outputs": []
    },
    {
      "cell_type": "markdown",
      "metadata": {
        "id": "KA326h6WzEvm",
        "colab_type": "text"
      },
      "source": [
        "Задание 8. Подсчитайте средний возраст пассажиров каждого из трех классов\n"
      ]
    },
    {
      "cell_type": "code",
      "metadata": {
        "id": "8ey0hMZzzd3M",
        "colab_type": "code",
        "colab": {}
      },
      "source": [
        ""
      ],
      "execution_count": 0,
      "outputs": []
    },
    {
      "cell_type": "markdown",
      "metadata": {
        "id": "XzwUK8sozykd",
        "colab_type": "text"
      },
      "source": [
        "Задание 9. Подсчитайте средний возраст выживших мужчин, купивших билет во 2 класс"
      ]
    },
    {
      "cell_type": "code",
      "metadata": {
        "id": "C2_Rc8gaztw5",
        "colab_type": "code",
        "colab": {}
      },
      "source": [
        ""
      ],
      "execution_count": 0,
      "outputs": []
    },
    {
      "cell_type": "markdown",
      "metadata": {
        "id": "caDgfRO1a3_j",
        "colab_type": "text"
      },
      "source": [
        "Задание 10*. Оцените, как влияет на выживаемость пассажиров наличие их родственников на борту."
      ]
    },
    {
      "cell_type": "code",
      "metadata": {
        "id": "qpU4kmQWz_T6",
        "colab_type": "code",
        "colab": {}
      },
      "source": [
        ""
      ],
      "execution_count": 0,
      "outputs": []
    }
  ]
}